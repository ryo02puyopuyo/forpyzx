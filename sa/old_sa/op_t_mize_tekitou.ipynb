{
 "cells": [
  {
   "cell_type": "code",
   "execution_count": 1,
   "id": "7aeba500",
   "metadata": {},
   "outputs": [],
   "source": [
    "#pennylane op-t-mize\n",
    "import pennylane as qml\n",
    "import pyzx as zx\n",
    "import tempfile\n",
    "import random\n",
    "from qiskit import QuantumCircuit\n",
    "from qiskit.circuit import QuantumCircuit, ParameterVector\n",
    "import csv\n",
    "import time\n",
    "import japanize_matplotlib # 追加"
   ]
  },
  {
   "cell_type": "code",
   "execution_count": 2,
   "id": "a6aa7d7e",
   "metadata": {},
   "outputs": [
    {
     "name": "stdout",
     "output_type": "stream",
     "text": [
      "31\n",
      "{'name': 'mod5_4', 'qubits': 5, 'gates': 63, 'tcount': 28, 'clifford': 35, 'twoqubit': 28, 'cnot': 28, 'had': 6, 'measurement': 0, 'other': 0, 'depth': 0, 'depth_cz': 0}\n",
      "{'name': 'vbe_adder_3', 'qubits': 10, 'gates': 150, 'tcount': 70, 'clifford': 80, 'twoqubit': 70, 'cnot': 70, 'had': 10, 'measurement': 0, 'other': 0, 'depth': 0, 'depth_cz': 0}\n",
      "{'name': 'csla_mux_3_original', 'qubits': 15, 'gates': 170, 'tcount': 70, 'clifford': 100, 'twoqubit': 80, 'cnot': 80, 'had': 20, 'measurement': 0, 'other': 0, 'depth': 0, 'depth_cz': 0}\n",
      "{'name': 'csum_mux_9_corrected', 'qubits': 30, 'gates': 448, 'tcount': 196, 'clifford': 252, 'twoqubit': 168, 'cnot': 168, 'had': 56, 'measurement': 0, 'other': 0, 'depth': 0, 'depth_cz': 0}\n",
      "{'name': 'qcla_com_7', 'qubits': 24, 'gates': 443, 'tcount': 203, 'clifford': 240, 'twoqubit': 186, 'cnot': 186, 'had': 39, 'measurement': 0, 'other': 0, 'depth': 0, 'depth_cz': 0}\n",
      "{'name': 'qcla_mod_7', 'qubits': 26, 'gates': 884, 'tcount': 413, 'clifford': 471, 'twoqubit': 382, 'cnot': 382, 'had': 82, 'measurement': 0, 'other': 0, 'depth': 0, 'depth_cz': 0}\n",
      "{'name': 'qcla_adder_10', 'qubits': 36, 'gates': 521, 'tcount': 238, 'clifford': 283, 'twoqubit': 233, 'cnot': 233, 'had': 50, 'measurement': 0, 'other': 0, 'depth': 0, 'depth_cz': 0}\n",
      "{'name': 'adder_8', 'qubits': 24, 'gates': 900, 'tcount': 399, 'clifford': 501, 'twoqubit': 409, 'cnot': 409, 'had': 80, 'measurement': 0, 'other': 0, 'depth': 0, 'depth_cz': 0}\n",
      "{'name': 'rc_adder_6', 'qubits': 14, 'gates': 200, 'tcount': 77, 'clifford': 123, 'twoqubit': 93, 'cnot': 93, 'had': 22, 'measurement': 0, 'other': 0, 'depth': 0, 'depth_cz': 0}\n",
      "{'name': 'mod_red_21', 'qubits': 11, 'gates': 278, 'tcount': 119, 'clifford': 159, 'twoqubit': 105, 'cnot': 105, 'had': 30, 'measurement': 0, 'other': 0, 'depth': 0, 'depth_cz': 0}\n",
      "{'name': 'mod_mult_55', 'qubits': 9, 'gates': 119, 'tcount': 49, 'clifford': 70, 'twoqubit': 48, 'cnot': 48, 'had': 14, 'measurement': 0, 'other': 0, 'depth': 0, 'depth_cz': 0}\n",
      "{'name': 'tof_3', 'qubits': 5, 'gates': 45, 'tcount': 21, 'clifford': 24, 'twoqubit': 18, 'cnot': 18, 'had': 6, 'measurement': 0, 'other': 0, 'depth': 0, 'depth_cz': 0}\n",
      "{'name': 'tof_4', 'qubits': 7, 'gates': 75, 'tcount': 35, 'clifford': 40, 'twoqubit': 30, 'cnot': 30, 'had': 10, 'measurement': 0, 'other': 0, 'depth': 0, 'depth_cz': 0}\n",
      "{'name': 'tof_5', 'qubits': 9, 'gates': 105, 'tcount': 49, 'clifford': 56, 'twoqubit': 42, 'cnot': 42, 'had': 14, 'measurement': 0, 'other': 0, 'depth': 0, 'depth_cz': 0}\n",
      "{'name': 'tof_10', 'qubits': 19, 'gates': 255, 'tcount': 119, 'clifford': 136, 'twoqubit': 102, 'cnot': 102, 'had': 34, 'measurement': 0, 'other': 0, 'depth': 0, 'depth_cz': 0}\n",
      "{'name': 'gf2^4_mult', 'qubits': 12, 'gates': 243, 'tcount': 112, 'clifford': 131, 'twoqubit': 99, 'cnot': 99, 'had': 32, 'measurement': 0, 'other': 0, 'depth': 0, 'depth_cz': 0}\n",
      "{'name': 'gf2^5_mult', 'qubits': 15, 'gates': 379, 'tcount': 175, 'clifford': 204, 'twoqubit': 154, 'cnot': 154, 'had': 50, 'measurement': 0, 'other': 0, 'depth': 0, 'depth_cz': 0}\n",
      "{'name': 'gf2^6_mult', 'qubits': 18, 'gates': 545, 'tcount': 252, 'clifford': 293, 'twoqubit': 221, 'cnot': 221, 'had': 72, 'measurement': 0, 'other': 0, 'depth': 0, 'depth_cz': 0}\n",
      "{'name': 'gf2^7_mult', 'qubits': 21, 'gates': 741, 'tcount': 343, 'clifford': 398, 'twoqubit': 300, 'cnot': 300, 'had': 98, 'measurement': 0, 'other': 0, 'depth': 0, 'depth_cz': 0}\n",
      "{'name': 'gf2^8_mult', 'qubits': 24, 'gates': 981, 'tcount': 448, 'clifford': 533, 'twoqubit': 405, 'cnot': 405, 'had': 128, 'measurement': 0, 'other': 0, 'depth': 0, 'depth_cz': 0}\n",
      "{'name': 'gf2^9_mult', 'qubits': 27, 'gates': 1223, 'tcount': 567, 'clifford': 656, 'twoqubit': 494, 'cnot': 494, 'had': 162, 'measurement': 0, 'other': 0, 'depth': 0, 'depth_cz': 0}\n",
      "{'name': 'gf2^10_mult', 'qubits': 30, 'gates': 1509, 'tcount': 700, 'clifford': 809, 'twoqubit': 609, 'cnot': 609, 'had': 200, 'measurement': 0, 'other': 0, 'depth': 0, 'depth_cz': 0}\n",
      "{'name': 'gf2^16_mult', 'qubits': 48, 'gates': 3885, 'tcount': 1792, 'clifford': 2093, 'twoqubit': 1581, 'cnot': 1581, 'had': 512, 'measurement': 0, 'other': 0, 'depth': 0, 'depth_cz': 0}\n",
      "{'name': 'barenco_tof_3', 'qubits': 5, 'gates': 60, 'tcount': 28, 'clifford': 32, 'twoqubit': 24, 'cnot': 24, 'had': 8, 'measurement': 0, 'other': 0, 'depth': 0, 'depth_cz': 0}\n",
      "{'name': 'barenco_tof_4', 'qubits': 7, 'gates': 114, 'tcount': 56, 'clifford': 58, 'twoqubit': 48, 'cnot': 48, 'had': 10, 'measurement': 0, 'other': 0, 'depth': 0, 'depth_cz': 0}\n",
      "{'name': 'barenco_tof_5', 'qubits': 9, 'gates': 170, 'tcount': 84, 'clifford': 86, 'twoqubit': 72, 'cnot': 72, 'had': 14, 'measurement': 0, 'other': 0, 'depth': 0, 'depth_cz': 0}\n",
      "{'name': 'barenco_tof_10', 'qubits': 19, 'gates': 450, 'tcount': 224, 'clifford': 226, 'twoqubit': 192, 'cnot': 192, 'had': 34, 'measurement': 0, 'other': 0, 'depth': 0, 'depth_cz': 0}\n",
      "{'name': 'gf2^32_mult', 'qubits': 96, 'gates': 13562, 'tcount': 7168, 'clifford': 6394, 'twoqubit': 6268, 'cnot': 6268, 'had': 126, 'measurement': 0, 'other': 0, 'depth': 0, 'depth_cz': 0}\n",
      "{'name': 'gf2^64_mult', 'qubits': 192, 'gates': 53691, 'tcount': 28672, 'clifford': 25019, 'twoqubit': 24765, 'cnot': 24765, 'had': 254, 'measurement': 0, 'other': 0, 'depth': 0, 'depth_cz': 0}\n",
      "{'name': 'gf2^128_mult', 'qubits': 384, 'gates': 213883, 'tcount': 114688, 'clifford': 99195, 'twoqubit': 98685, 'cnot': 98685, 'had': 510, 'measurement': 0, 'other': 0, 'depth': 0, 'depth_cz': 0}\n",
      "{'name': 'gf2^256_mult', 'qubits': 768, 'gates': 853755, 'tcount': 458752, 'clifford': 395003, 'twoqubit': 393981, 'cnot': 393981, 'had': 1022, 'measurement': 0, 'other': 0, 'depth': 0, 'depth_cz': 0}\n"
     ]
    }
   ],
   "source": [
    "#回路セット読み込み\n",
    "[ds] = qml.data.load(\"op-t-mize\")\n",
    "\n",
    "pyzx_circuits = []\n",
    "\n",
    "for i, qscript in enumerate(ds.circuits):\n",
    "    try:\n",
    "        # QuantumScript を OpenQASM 2.0 に変換\n",
    "        qasm_str = qscript.to_openqasm(\n",
    "            wires=None,\n",
    "            rotations=False,\n",
    "            measure_all=False,\n",
    "            precision=8\n",
    "        )\n",
    "\n",
    "        # QASM を一時ファイル経由で PyZX に読み込む\n",
    "        with tempfile.NamedTemporaryFile(suffix=\".qasm\", mode='w+', delete=False) as tmpfile:\n",
    "            tmpfile.write(qasm_str)\n",
    "            tmpfile.flush()\n",
    "            zx_circuit = zx.Circuit.load(tmpfile.name)\n",
    "\n",
    "        # 元の回路名を設定（PyZX Circuit に名前属性を追加）\n",
    "        zx_circuit.name = ds.circuit_names[i]\n",
    "        pyzx_circuits.append(zx_circuit)\n",
    "        \n",
    "    except Exception as e:\n",
    "        print(f\"回路 {i}（{ds.circuit_names[i]}）の変換に失敗: {e}\")\n",
    "\n",
    "#読み込んだ回路の確認\n",
    "print(len(pyzx_circuits))\n",
    "for i, zx_circuit in enumerate(pyzx_circuits):\n",
    "    dict = zx_circuit.stats_dict()\n",
    "    print(dict)"
   ]
  },
  {
   "cell_type": "code",
   "execution_count": 3,
   "id": "6ca0b163",
   "metadata": {},
   "outputs": [
    {
     "data": {
      "text/plain": [
       "[Circuit(5 qubits, 0 bits, 63 gates),\n",
       " Circuit(10 qubits, 0 bits, 150 gates),\n",
       " Circuit(15 qubits, 0 bits, 170 gates),\n",
       " Circuit(30 qubits, 0 bits, 448 gates),\n",
       " Circuit(24 qubits, 0 bits, 443 gates),\n",
       " Circuit(26 qubits, 0 bits, 884 gates),\n",
       " Circuit(36 qubits, 0 bits, 521 gates),\n",
       " Circuit(24 qubits, 0 bits, 900 gates),\n",
       " Circuit(14 qubits, 0 bits, 200 gates),\n",
       " Circuit(11 qubits, 0 bits, 278 gates),\n",
       " Circuit(9 qubits, 0 bits, 119 gates),\n",
       " Circuit(5 qubits, 0 bits, 45 gates),\n",
       " Circuit(7 qubits, 0 bits, 75 gates),\n",
       " Circuit(9 qubits, 0 bits, 105 gates),\n",
       " Circuit(19 qubits, 0 bits, 255 gates),\n",
       " Circuit(12 qubits, 0 bits, 243 gates),\n",
       " Circuit(15 qubits, 0 bits, 379 gates),\n",
       " Circuit(18 qubits, 0 bits, 545 gates),\n",
       " Circuit(21 qubits, 0 bits, 741 gates),\n",
       " Circuit(24 qubits, 0 bits, 981 gates),\n",
       " Circuit(27 qubits, 0 bits, 1223 gates),\n",
       " Circuit(30 qubits, 0 bits, 1509 gates),\n",
       " Circuit(48 qubits, 0 bits, 3885 gates),\n",
       " Circuit(5 qubits, 0 bits, 60 gates),\n",
       " Circuit(7 qubits, 0 bits, 114 gates),\n",
       " Circuit(9 qubits, 0 bits, 170 gates),\n",
       " Circuit(19 qubits, 0 bits, 450 gates),\n",
       " Circuit(96 qubits, 0 bits, 13562 gates),\n",
       " Circuit(192 qubits, 0 bits, 53691 gates),\n",
       " Circuit(384 qubits, 0 bits, 213883 gates),\n",
       " Circuit(768 qubits, 0 bits, 853755 gates)]"
      ]
     },
     "execution_count": 3,
     "metadata": {},
     "output_type": "execute_result"
    }
   ],
   "source": [
    "pyzx_circuits"
   ]
  },
  {
   "cell_type": "code",
   "execution_count": null,
   "id": "f1114cf9",
   "metadata": {},
   "outputs": [
    {
     "name": "stdout",
     "output_type": "stream",
     "text": [
      "beforeCircuit mod5_4 on 5 qubits with 63 gates.\n",
      "        28 is the T-count\n",
      "        35 Cliffords among which\n",
      "        28 2-qubit gates (28 CNOT, 0 other) and\n",
      "        6 Hadamard gates.\n"
     ]
    },
    {
     "ename": "TypeError",
     "evalue": "unsupported operand type(s) for +: 'int' and 'str'",
     "output_type": "error",
     "traceback": [
      "\u001b[0;31m---------------------------------------------------------------------------\u001b[0m",
      "\u001b[0;31mTypeError\u001b[0m                                 Traceback (most recent call last)",
      "Cell \u001b[0;32mIn[12], line 9\u001b[0m\n\u001b[1;32m      7\u001b[0m \u001b[38;5;28mprint\u001b[39m(\u001b[38;5;124mf\u001b[39m\u001b[38;5;124m\"\u001b[39m\u001b[38;5;124mbefore\u001b[39m\u001b[38;5;132;01m{\u001b[39;00mc\u001b[38;5;241m.\u001b[39mstats()\u001b[38;5;132;01m}\u001b[39;00m\u001b[38;5;124m\"\u001b[39m)\n\u001b[1;32m      8\u001b[0m zx\u001b[38;5;241m.\u001b[39msettings\u001b[38;5;241m.\u001b[39mtopt_command \u001b[38;5;241m=\u001b[39m [\u001b[38;5;124m'\u001b[39m\u001b[38;5;124m/home/rest/forpyzx/TOpt/bin/TOpt\u001b[39m\u001b[38;5;124m'\u001b[39m]\n\u001b[0;32m----> 9\u001b[0m c \u001b[38;5;241m=\u001b[39m \u001b[43mzx\u001b[49m\u001b[38;5;241;43m.\u001b[39;49m\u001b[43moptimize\u001b[49m\u001b[38;5;241;43m.\u001b[39;49m\u001b[43mphase_block_optimize\u001b[49m\u001b[43m(\u001b[49m\u001b[43mc\u001b[49m\u001b[43m)\u001b[49m\n\u001b[1;32m     11\u001b[0m \u001b[38;5;28mprint\u001b[39m(\u001b[38;5;124mf\u001b[39m\u001b[38;5;124m\"\u001b[39m\u001b[38;5;124mafter \u001b[39m\u001b[38;5;132;01m{\u001b[39;00mc\u001b[38;5;241m.\u001b[39mstats()\u001b[38;5;132;01m}\u001b[39;00m\u001b[38;5;124m\"\u001b[39m)\n\u001b[1;32m     12\u001b[0m \u001b[38;5;28mprint\u001b[39m(\u001b[38;5;124m\"\u001b[39m\u001b[38;5;124m--------------\u001b[39m\u001b[38;5;124m\"\u001b[39m)\n",
      "File \u001b[0;32m~/forpyzx/venv/lib/python3.10/site-packages/pyzx/optimize.py:754\u001b[0m, in \u001b[0;36mphase_block_optimize\u001b[0;34m(circuit, pre_optimize, quiet)\u001b[0m\n\u001b[1;32m    752\u001b[0m block \u001b[38;5;241m=\u001b[39m \u001b[38;5;28mlist\u001b[39m(\u001b[38;5;28mreversed\u001b[39m(revblock))\n\u001b[1;32m    753\u001b[0m block\u001b[38;5;241m.\u001b[39mextend(newblock)\n\u001b[0;32m--> 754\u001b[0m block, permute \u001b[38;5;241m=\u001b[39m \u001b[43mtodd_simp\u001b[49m\u001b[43m(\u001b[49m\u001b[43mblock\u001b[49m\u001b[43m,\u001b[49m\u001b[43m \u001b[49m\u001b[43mqubits\u001b[49m\u001b[43m,\u001b[49m\u001b[43m \u001b[49m\u001b[43mquiet\u001b[49m\u001b[38;5;241;43m=\u001b[39;49m\u001b[43mquiet\u001b[49m\u001b[43m)\u001b[49m\n\u001b[1;32m    755\u001b[0m inverse \u001b[38;5;241m=\u001b[39m {v:k \u001b[38;5;28;01mfor\u001b[39;00m k,v \u001b[38;5;129;01min\u001b[39;00m permute\u001b[38;5;241m.\u001b[39mitems()}\n\u001b[1;32m    756\u001b[0m gates \u001b[38;5;241m=\u001b[39m {inverse[t]:gs \u001b[38;5;28;01mfor\u001b[39;00m t,gs \u001b[38;5;129;01min\u001b[39;00m gates\u001b[38;5;241m.\u001b[39mitems()}\n",
      "File \u001b[0;32m~/forpyzx/venv/lib/python3.10/site-packages/pyzx/todd.py:400\u001b[0m, in \u001b[0;36mtodd_simp\u001b[0;34m(gates, qubits, quiet)\u001b[0m\n\u001b[1;32m    398\u001b[0m parities \u001b[38;5;241m=\u001b[39m []\n\u001b[1;32m    399\u001b[0m \u001b[38;5;28;01mfor\u001b[39;00m col \u001b[38;5;129;01min\u001b[39;00m m2\u001b[38;5;241m.\u001b[39mtranspose()\u001b[38;5;241m.\u001b[39mdata:\n\u001b[0;32m--> 400\u001b[0m     \u001b[38;5;28;01mif\u001b[39;00m \u001b[38;5;28;43msum\u001b[39;49m\u001b[43m(\u001b[49m\u001b[43mcol\u001b[49m\u001b[43m)\u001b[49m \u001b[38;5;241m==\u001b[39m \u001b[38;5;241m1\u001b[39m:\n\u001b[1;32m    401\u001b[0m         newgates\u001b[38;5;241m.\u001b[39mappend(T(\u001b[38;5;28mnext\u001b[39m(i \u001b[38;5;28;01mfor\u001b[39;00m i \u001b[38;5;129;01min\u001b[39;00m \u001b[38;5;28mrange\u001b[39m(qubits) \u001b[38;5;28;01mif\u001b[39;00m col[i])))\n\u001b[1;32m    402\u001b[0m     \u001b[38;5;28;01melse\u001b[39;00m:\n",
      "\u001b[0;31mTypeError\u001b[0m: unsupported operand type(s) for +: 'int' and 'str'"
     ]
    }
   ],
   "source": [
    "\n",
    "for i, zx_circuit in enumerate(pyzx_circuits):\n",
    "    if i>=3:\n",
    "        break\n",
    "    c = zx_circuit.copy()\n",
    "\n",
    "    print(f\"before{c.stats()}\")\n",
    "    zx.settings.topt_command = ['/home/rest/forpyzx/TOpt/bin/TOpt']\n",
    "    c = zx.optimize.phase_block_optimize(c)\n",
    "\n",
    "    print(f\"after {c.stats()}\")\n",
    "    print(\"--------------\")\n"
   ]
  }
 ],
 "metadata": {
  "kernelspec": {
   "display_name": "venv (3.10.12)",
   "language": "python",
   "name": "python3"
  },
  "language_info": {
   "codemirror_mode": {
    "name": "ipython",
    "version": 3
   },
   "file_extension": ".py",
   "mimetype": "text/x-python",
   "name": "python",
   "nbconvert_exporter": "python",
   "pygments_lexer": "ipython3",
   "version": "3.10.12"
  }
 },
 "nbformat": 4,
 "nbformat_minor": 5
}
