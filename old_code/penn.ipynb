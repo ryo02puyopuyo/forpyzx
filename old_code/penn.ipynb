{
 "cells": [
  {
   "cell_type": "code",
   "execution_count": 2,
   "id": "4ab2d0ef",
   "metadata": {},
   "outputs": [],
   "source": [
    "import pennylane as qml\n",
    "\n",
    "data = qml.data.load(\"other\", name=\"op-t-mize\")\n"
   ]
  },
  {
   "cell_type": "code",
   "execution_count": 28,
   "id": "c771932e",
   "metadata": {},
   "outputs": [
    {
     "name": "stdout",
     "output_type": "stream",
     "text": [
      "<class 'list'>\n",
      "1\n",
      "<Dataset = attributes: ['circuits', 'circuit_names', ...]>\n",
      "['mod5_4', 'vbe_adder_3', 'csla_mux_3_original', 'csum_mux_9_corrected', 'qcla_com_7', 'qcla_mod_7', 'qcla_adder_10', 'adder_8', 'rc_adder_6', 'mod_red_21', 'mod_mult_55', 'tof_3', 'tof_4', 'tof_5', 'tof_10', 'gf2^4_mult', 'gf2^5_mult', 'gf2^6_mult', 'gf2^7_mult', 'gf2^8_mult', 'gf2^9_mult', 'gf2^10_mult', 'gf2^16_mult', 'barenco_tof_3', 'barenco_tof_4', 'barenco_tof_5', 'barenco_tof_10', 'gf2^32_mult', 'gf2^64_mult', 'gf2^128_mult', 'gf2^256_mult']\n"
     ]
    }
   ],
   "source": [
    "print(type(data)) \n",
    "print(len(data))\n",
    "print(data[0])  \n",
    "print(data[0].circuit_names)\n"
   ]
  },
  {
   "cell_type": "code",
   "execution_count": 3,
   "id": "a0380674",
   "metadata": {},
   "outputs": [],
   "source": [
    "[ds] = qml.data.load(\"op-t-mize\")"
   ]
  },
  {
   "cell_type": "code",
   "execution_count": 6,
   "id": "998d92df",
   "metadata": {},
   "outputs": [],
   "source": [
    "pyzx_circuits = []\n",
    "import pyzx as zx\n",
    "import tempfile\n",
    "\n",
    "for i, qscript in enumerate(ds.circuits):\n",
    "    try:\n",
    "        # QuantumScript を OpenQASM 2.0 に変換\n",
    "        qasm_str = qscript.to_openqasm(\n",
    "            wires=None,             # 自動で wire を割り当て\n",
    "            rotations=False,        # 観測のための回転ゲートを追加しない\n",
    "            measure_all=False,      # 全量子ビットを測定しない（PyZXは測定非対応）\n",
    "            precision=8             # パラメータ精度（省略可）\n",
    "        )\n",
    "\n",
    "        # QASM を一時ファイル経由で PyZX に読み込む\n",
    "        with tempfile.NamedTemporaryFile(suffix=\".qasm\", mode='w+', delete=False) as tmpfile:\n",
    "            tmpfile.write(qasm_str)\n",
    "            tmpfile.flush()\n",
    "            zx_circuit = zx.Circuit.load(tmpfile.name)\n",
    "\n",
    "        pyzx_circuits.append(zx_circuit)\n",
    "\n",
    "    except Exception as e:\n",
    "        print(f\"回路 {i}（{ds.circuit_names[i]}）の変換に失敗: {e}\")\n"
   ]
  },
  {
   "cell_type": "code",
   "execution_count": 29,
   "id": "a276c8c3",
   "metadata": {},
   "outputs": [],
   "source": [
    "import pyzx as zx\n",
    "import tempfile\n",
    "\n",
    "pyzx_circuits = []\n",
    "\n",
    "for i, qscript in enumerate(ds.circuits):\n",
    "    try:\n",
    "        # QuantumScript を OpenQASM 2.0 に変換\n",
    "        qasm_str = qscript.to_openqasm(\n",
    "            wires=None,\n",
    "            rotations=False,\n",
    "            measure_all=False,\n",
    "            precision=8\n",
    "        )\n",
    "\n",
    "        # QASM を一時ファイル経由で PyZX に読み込む\n",
    "        with tempfile.NamedTemporaryFile(suffix=\".qasm\", mode='w+', delete=False) as tmpfile:\n",
    "            tmpfile.write(qasm_str)\n",
    "            tmpfile.flush()\n",
    "            zx_circuit = zx.Circuit.load(tmpfile.name)\n",
    "\n",
    "        # 元の回路名を設定（PyZX Circuit に名前属性を追加）\n",
    "        zx_circuit.name = ds.circuit_names[i]\n",
    "\n",
    "        pyzx_circuits.append(zx_circuit)\n",
    "\n",
    "    except Exception as e:\n",
    "        print(f\"回路 {i}（{ds.circuit_names[i]}）の変換に失敗: {e}\")"
   ]
  },
  {
   "cell_type": "code",
   "execution_count": null,
   "id": "bd880c6d",
   "metadata": {},
   "outputs": [
    {
     "name": "stdout",
     "output_type": "stream",
     "text": [
      "31\n",
      "gates:63, qubits:5, depth:0,tcount:28,had:6,ohter:0,cnot:28\n",
      "gates:150, qubits:10, depth:0,tcount:70,had:10,ohter:0,cnot:70\n",
      "gates:170, qubits:15, depth:0,tcount:70,had:20,ohter:0,cnot:80\n",
      "gates:448, qubits:30, depth:0,tcount:196,had:56,ohter:0,cnot:168\n",
      "gates:443, qubits:24, depth:0,tcount:203,had:39,ohter:0,cnot:186\n",
      "gates:884, qubits:26, depth:0,tcount:413,had:82,ohter:0,cnot:382\n",
      "gates:521, qubits:36, depth:0,tcount:238,had:50,ohter:0,cnot:233\n",
      "gates:900, qubits:24, depth:0,tcount:399,had:80,ohter:0,cnot:409\n",
      "gates:200, qubits:14, depth:0,tcount:77,had:22,ohter:0,cnot:93\n",
      "gates:278, qubits:11, depth:0,tcount:119,had:30,ohter:0,cnot:105\n",
      "gates:119, qubits:9, depth:0,tcount:49,had:14,ohter:0,cnot:48\n",
      "gates:45, qubits:5, depth:0,tcount:21,had:6,ohter:0,cnot:18\n",
      "gates:75, qubits:7, depth:0,tcount:35,had:10,ohter:0,cnot:30\n",
      "gates:105, qubits:9, depth:0,tcount:49,had:14,ohter:0,cnot:42\n",
      "gates:255, qubits:19, depth:0,tcount:119,had:34,ohter:0,cnot:102\n",
      "gates:243, qubits:12, depth:0,tcount:112,had:32,ohter:0,cnot:99\n",
      "gates:379, qubits:15, depth:0,tcount:175,had:50,ohter:0,cnot:154\n",
      "gates:545, qubits:18, depth:0,tcount:252,had:72,ohter:0,cnot:221\n",
      "gates:741, qubits:21, depth:0,tcount:343,had:98,ohter:0,cnot:300\n",
      "gates:981, qubits:24, depth:0,tcount:448,had:128,ohter:0,cnot:405\n",
      "gates:1223, qubits:27, depth:0,tcount:567,had:162,ohter:0,cnot:494\n",
      "gates:1509, qubits:30, depth:0,tcount:700,had:200,ohter:0,cnot:609\n",
      "gates:3885, qubits:48, depth:0,tcount:1792,had:512,ohter:0,cnot:1581\n",
      "gates:60, qubits:5, depth:0,tcount:28,had:8,ohter:0,cnot:24\n",
      "gates:114, qubits:7, depth:0,tcount:56,had:10,ohter:0,cnot:48\n",
      "gates:170, qubits:9, depth:0,tcount:84,had:14,ohter:0,cnot:72\n",
      "gates:450, qubits:19, depth:0,tcount:224,had:34,ohter:0,cnot:192\n",
      "gates:13562, qubits:96, depth:0,tcount:7168,had:126,ohter:0,cnot:6268\n",
      "gates:53691, qubits:192, depth:0,tcount:28672,had:254,ohter:0,cnot:24765\n",
      "gates:213883, qubits:384, depth:0,tcount:114688,had:510,ohter:0,cnot:98685\n",
      "gates:853755, qubits:768, depth:0,tcount:458752,had:1022,ohter:0,cnot:393981\n"
     ]
    }
   ],
   "source": [
    "print(len(pyzx_circuits))\n",
    "# PyZX の回路を表示\n",
    "\n",
    "for i, zx_circuit in enumerate(pyzx_circuits):\n",
    "    dict = zx_circuit.stats_dict()\n",
    "    print(dict)\n",
    "    #print(f\"gates:{dict['gates']}, qubits:{dict['qubits']}, depth:{dict['depth']},tcount:{dict['tcount']},had:{dict['had']},ohter:{dict['other']},cnot:{dict['cnot']}\")\n"
   ]
  },
  {
   "cell_type": "code",
   "execution_count": 27,
   "id": "c847fc45",
   "metadata": {},
   "outputs": [
    {
     "name": "stdout",
     "output_type": "stream",
     "text": [
      "Circuit(5 qubits, 0 bits, 63 gates)\n",
      "OPENQASM 2.0;\n",
      "include \"qelib1.inc\";\n",
      "qreg q[5];\n",
      "x q[0];\n",
      "h q[0];\n",
      "cx q[1], q[0];\n",
      "tdg q[0];\n",
      "cx q[2], q[0];\n",
      "t q[0];\n",
      "cx q[1], q[0];\n",
      "tdg q[0];\n",
      "t q[1];\n",
      "cx q[2], q[0];\n",
      "t q[0];\n",
      "cx q[2], q[1];\n",
      "t q[2];\n",
      "tdg q[1];\n",
      "cx q[2], q[1];\n",
      "cx q[1], q[0];\n",
      "tdg q[0];\n",
      "cx q[3], q[0];\n",
      "t q[0];\n",
      "cx q[1], q[0];\n",
      "tdg q[0];\n",
      "t q[1];\n",
      "cx q[3], q[0];\n",
      "t q[0];\n",
      "cx q[3], q[1];\n",
      "t q[3];\n",
      "tdg q[1];\n",
      "h q[0];\n",
      "cx q[3], q[1];\n",
      "cx q[1], q[0];\n",
      "h q[0];\n",
      "cx q[3], q[0];\n",
      "tdg q[0];\n",
      "cx q[4], q[0];\n",
      "t q[0];\n",
      "cx q[3], q[0];\n",
      "tdg q[0];\n",
      "t q[3];\n",
      "cx q[4], q[0];\n",
      "t q[0];\n",
      "cx q[4], q[3];\n",
      "t q[4];\n",
      "tdg q[3];\n",
      "h q[0];\n",
      "cx q[4], q[3];\n",
      "cx q[3], q[0];\n",
      "h q[0];\n",
      "cx q[4], q[0];\n",
      "tdg q[0];\n",
      "cx q[2], q[0];\n",
      "t q[0];\n",
      "cx q[4], q[0];\n",
      "tdg q[0];\n",
      "t q[4];\n",
      "cx q[2], q[0];\n",
      "t q[0];\n",
      "cx q[2], q[4];\n",
      "t q[2];\n",
      "tdg q[4];\n",
      "h q[0];\n",
      "cx q[2], q[4];\n",
      "cx q[4], q[0];\n",
      "cx q[2], q[0];\n",
      "\n"
     ]
    }
   ],
   "source": [
    "a = pyzx_circuits[0]\n",
    "print(a)\n",
    "print(a.to_qasm())"
   ]
  },
  {
   "cell_type": "code",
   "execution_count": null,
   "id": "9a10ae77",
   "metadata": {},
   "outputs": [],
   "source": []
  }
 ],
 "metadata": {
  "kernelspec": {
   "display_name": "venv",
   "language": "python",
   "name": "python3"
  },
  "language_info": {
   "codemirror_mode": {
    "name": "ipython",
    "version": 3
   },
   "file_extension": ".py",
   "mimetype": "text/x-python",
   "name": "python",
   "nbconvert_exporter": "python",
   "pygments_lexer": "ipython3",
   "version": "3.10.12"
  }
 },
 "nbformat": 4,
 "nbformat_minor": 5
}
