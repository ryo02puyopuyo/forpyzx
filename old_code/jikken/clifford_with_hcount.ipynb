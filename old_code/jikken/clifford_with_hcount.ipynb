{
 "cells": [
  {
   "cell_type": "code",
   "execution_count": null,
   "metadata": {
    "vscode": {
     "languageId": "plaintext"
    }
   },
   "outputs": [],
   "source": [
    "import pyzx as zx\n",
    "import random\n",
    "from qiskit import QuantumCircuit\n",
    "from qiskit.circuit import QuantumCircuit, ParameterVector\n",
    "import csv\n",
    "import time"
   ]
  },
  {
   "cell_type": "code",
   "execution_count": null,
   "metadata": {
    "vscode": {
     "languageId": "plaintext"
    }
   },
   "outputs": [],
   "source": [
    "def generate_H_S_CNOT_T_circuit(qubits, gates, p_t=0, seed=1000):\n",
    "    random.seed(seed)  \n",
    "    p_s = 0.333 * (1.0 - p_t)  \n",
    "    p_had = 0.333 * (1.0 - p_t)  \n",
    "    p_cnot = 0.333 * (1.0 - p_t)  \n",
    "\n",
    "    c = zx.Circuit(qubits) \n",
    "    for _ in range(gates):\n",
    "        r = random.random() \n",
    "        if r < p_had:\n",
    "            c.add_gate(\"HAD\", random.randrange(qubits))\n",
    "        elif r < p_had + p_s:\n",
    "            c.add_gate(\"S\", random.randrange(qubits))\n",
    "        elif r < p_had + p_s + p_t:\n",
    "            c.add_gate(\"T\", random.randrange(qubits))\n",
    "        else:\n",
    "            tgt = random.randrange(qubits)\n",
    "            while True:\n",
    "                ctrl = random.randrange(qubits)\n",
    "                if ctrl != tgt:\n",
    "                    break\n",
    "            c.add_gate(\"CNOT\", tgt, ctrl)\n",
    "    return c"
   ]
  }
 ],
 "metadata": {
  "language_info": {
   "name": "python"
  }
 },
 "nbformat": 4,
 "nbformat_minor": 2
}
