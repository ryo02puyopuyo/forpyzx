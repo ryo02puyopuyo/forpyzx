{
 "cells": [
  {
   "cell_type": "code",
   "execution_count": 1,
   "metadata": {},
   "outputs": [],
   "source": [
    "import pyzx as zx\n",
    "import random\n",
    "from qiskit import QuantumCircuit\n",
    "from qiskit.circuit import QuantumCircuit, ParameterVector\n",
    "import csv\n",
    "import time\n",
    "from typing import List,Dict,Set\n",
    "import os"
   ]
  },
  {
   "cell_type": "code",
   "execution_count": 2,
   "metadata": {},
   "outputs": [
    {
     "data": {
      "text/plain": [
       "'\\nzx.draw(c)\\n#print(c.stats())\\n\\n#c = zx.optimize.basic_optimization(c.to_basic_gates())\\ng = c.to_graph()\\nzx.simplify.clifford_simp(g)\\n\\nc = zx.extract.streaming_extract(g)\\nc = zx.optimize.basic_optimization(c)\\n\\nprint(c.stats())\\n'"
      ]
     },
     "execution_count": 2,
     "metadata": {},
     "output_type": "execute_result"
    }
   ],
   "source": [
    "#path指定\n",
    "small_path = \"../QASMBench/small/vqe_uccsd_n6/vqe_uccsd_n6.qasm\"\n",
    "\n",
    "c = zx.Circuit.from_qasm_file(small_path)\n",
    "\n",
    "\"\"\"\n",
    "zx.draw(c)\n",
    "#print(c.stats())\n",
    "\n",
    "#c = zx.optimize.basic_optimization(c.to_basic_gates())\n",
    "g = c.to_graph()\n",
    "zx.simplify.clifford_simp(g)\n",
    "\n",
    "c = zx.extract.streaming_extract(g)\n",
    "c = zx.optimize.basic_optimization(c)\n",
    "\n",
    "print(c.stats())\n",
    "\"\"\""
   ]
  },
  {
   "cell_type": "code",
   "execution_count": null,
   "metadata": {},
   "outputs": [
    {
     "name": "stdout",
     "output_type": "stream",
     "text": [
      "gates =  9 T = 0 t/gates =  0.0\n",
      "gates =  5 T = 0 t/gates =  0.0\n",
      "gates =  2282 T = 150 t/gates =  0.06573181419807186\n",
      "gates =  40 T = 70 t/gates =  1.75\n",
      "gates =  4 T = 0 t/gates =  0.0\n",
      "gates =  16 T = 9 t/gates =  0.5625\n",
      "gates =  18 T = 7 t/gates =  0.3888888888888889\n",
      "gates =  1008 T = 288 t/gates =  0.2857142857142857\n",
      "gates =  16 T = 0 t/gates =  0.0\n",
      "gates =  10808 T = 616 t/gates =  0.05699481865284974\n",
      "gates =  226 T = 70 t/gates =  0.30973451327433627\n",
      "gates =  113 T = 0 t/gates =  0.0\n",
      "gates =  33 T = 14 t/gates =  0.42424242424242425\n",
      "gates =  28 T = 0 t/gates =  0.0\n",
      "gates =  220 T = 20 t/gates =  0.09090909090909091\n",
      "gates =  30 T = 56 t/gates =  1.8666666666666667\n",
      "gates =  11 T = 0 t/gates =  0.0\n",
      "gates =  25 T = 1 t/gates =  0.04\n",
      "gates =  54 T = 24 t/gates =  0.4444444444444444\n",
      "gates =  23 T = 8 t/gates =  0.34782608695652173\n",
      "gates =  89 T = 32 t/gates =  0.3595505617977528\n",
      "gates =  1506 T = 402 t/gates =  0.26693227091633465\n",
      "gates =  11 T = 0 t/gates =  0.0\n",
      "gates =  4 T = 0 t/gates =  0.0\n",
      "gates =  19 T = 7 t/gates =  0.3684210526315789\n",
      "gates =  16 T = 14 t/gates =  0.875\n",
      "gates =  33 T = 0 t/gates =  0.0\n",
      "gates =  270 T = 66 t/gates =  0.24444444444444444\n",
      "gates =  27 T = 0 t/gates =  0.0\n",
      "gates =  33 T = 3 t/gates =  0.09090909090909091\n",
      "gates =  480 T = 260 t/gates =  0.5416666666666666\n",
      "gates =  12 T = 0 t/gates =  0.0\n",
      "gates =  8 T = 1 t/gates =  0.125\n",
      "gates =  689 T = 410 t/gates =  0.5950653120464441\n",
      "gates =  19 T = 0 t/gates =  0.0\n",
      "gates =  15 T = 6 t/gates =  0.4\n"
     ]
    }
   ],
   "source": [
    "small_path = \"../QASMBench/small\"\n",
    "\n",
    "os.listdir(small_path)\n",
    "\n",
    "for file in os.listdir(small_path):\n",
    "    #print(file)\n",
    "    #if (file == \"pea_n5\" or file == \"qec_sm_n5\" or file == \".DS_Store\" or file ==\"qelib1.inc\" or file == \"ipea_n2\"\n",
    "    #    or file == \"vqe.py\" or file == \"inverseqft_n4\" or file == \"shor_n5\"):\n",
    "    #    continue\n",
    "    #実行終わらず\n",
    "    #if (file== \"hhl_n10\"):\n",
    "    #    continue\n",
    "\n",
    "    c = zx.Circuit.from_qasm_file(small_path + \"/\" + file + \"/\" + file+ \".qasm\")\n",
    "    dict = c.stats_dict()\n",
    "    print(\"name =\",file,\"gates = \", dict[\"gates\"],\"T =\", dict[\"tcount\"], \"t/gates = \", dict[\"tcount\"]/dict[\"gates\"])\n",
    "    g = c.to_graph()\n",
    "    zx.simplify.clifford_simp(g)\n",
    "    c = zx.extract.streaming_extract(g)\n",
    "    c = zx.optimize.basic_optimization(c)\n",
    "    print(c.stats())\n",
    "\n"
   ]
  },
  {
   "cell_type": "code",
   "execution_count": 12,
   "metadata": {},
   "outputs": [
    {
     "name": "stdout",
     "output_type": "stream",
     "text": [
      "gates =  73 T = 28 t/gates =  0.3835616438356164\n",
      "gates =  70 T = 56 t/gates =  0.8\n",
      "gates =  2016 T = 576 t/gates =  0.2857142857142857\n",
      "gates =  783 T = 459 t/gates =  0.5862068965517241\n",
      "gates =  70 T = 252 t/gates =  3.6\n",
      "gates =  38 T = 108 t/gates =  2.8421052631578947\n",
      "gates =  56 T = 0 t/gates =  0.0\n",
      "gates =  60 T = 112 t/gates =  1.8666666666666667\n",
      "gates =  41 T = 140 t/gates =  3.4146341463414633\n",
      "gates =  38 T = 108 t/gates =  2.8421052631578947\n",
      "gates =  14 T = 42 t/gates =  3.0\n",
      "gates =  53 T = 0 t/gates =  0.0\n",
      "gates =  23 T = 0 t/gates =  0.0\n",
      "gates =  280 T = 100 t/gates =  0.35714285714285715\n",
      "gates =  41 T = 0 t/gates =  0.0\n",
      "gates =  22 T = 0 t/gates =  0.0\n",
      "gates =  105 T = 52 t/gates =  0.49523809523809526\n"
     ]
    }
   ],
   "source": [
    "medium_path = \"../QASMBench/medium\"\n",
    "\n",
    "for file in os.listdir(medium_path):\n",
    "    #print(file)\n",
    "    if (file == \".DS_Store\" or file == \"cc_n12\" \n",
    "        or file == \"square_root_n18\" or file == \"gcm_n13\" or file == \"factor247_n15\"\n",
    "        or file == \"sat_n11\" or file == \"bwt_n21\"):\n",
    "        continue\n",
    "    #nazeka ugokanai\n",
    "    if (file == \"hhl_n14\" or file == \"vqe_n24\"):\n",
    "        continue\n",
    "    c = zx.Circuit.from_qasm_file(medium_path + \"/\" + file + \"/\" + file+ \".qasm\")\n",
    "    #print(c.to_basic_gates().stats())\n",
    "    dict = c.stats_dict()\n",
    "    print(\"gates = \", dict[\"gates\"],\"T =\", dict[\"tcount\"], \"t/gates = \", dict[\"tcount\"]/dict[\"gates\"])\n",
    "\n",
    "    \"\"\"\n",
    "    g = c.to_graph()\n",
    "    zx.simplify.clifford_simp(g)\n",
    "    c = zx.extract.streaming_extract(g)\n",
    "    c = zx.optimize.basic_optimization(c)\n",
    "    print(c.stats())\n",
    "    \"\"\"\n"
   ]
  },
  {
   "cell_type": "code",
   "execution_count": null,
   "metadata": {},
   "outputs": [],
   "source": [
    "small_path = \"../QASMBench/small\"\n",
    "\n",
    "#os.listdir(small_path)\n",
    "output_file = \"../kekka0107/qasm_small_stats.csv\"\n",
    "fieldnames=[\n",
    "    \"data_name\",\"gates\",\"depth\"\n",
    "]\n",
    "\n",
    "for file in os.listdir(small_path):\n",
    "    print(file)\n",
    "    if (file == \"pea_n5\" or file == \"qec_sm_n5\" or file == \".DS_Store\" or file ==\"qelib1.inc\" or file == \"ipea_n2\"\n",
    "        or file == \"vqe.py\" or file == \"inverseqft_n4\" or file == \"shor_n5\"):\n",
    "        continue\n",
    "    circuit_qiskit = QuantumCircuit.from_qasm_file(small_path + \"/\" + file + \"/\" + file+ \".qasm\")\n",
    "    print(circuit_qiskit.count_ops())\n",
    "    #c = zx.Circuit.from_qasm_file(small_path + \"/\" + file + \"/\" + file+ \".qasm\")\n",
    "    #g = c.to_graph()\n",
    "    #zx.simplify.clifford_simp(g)\n",
    "    #c = zx.extract.streaming_extract(g)\n",
    "    #c = zx.optimize.basic_optimization(c)\n",
    "    #print(c.stats())"
   ]
  }
 ],
 "metadata": {
  "kernelspec": {
   "display_name": "venv",
   "language": "python",
   "name": "python3"
  },
  "language_info": {
   "codemirror_mode": {
    "name": "ipython",
    "version": 3
   },
   "file_extension": ".py",
   "mimetype": "text/x-python",
   "name": "python",
   "nbconvert_exporter": "python",
   "pygments_lexer": "ipython3",
   "version": "3.10.12"
  }
 },
 "nbformat": 4,
 "nbformat_minor": 2
}
