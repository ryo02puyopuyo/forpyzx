{
 "cells": [
  {
   "cell_type": "code",
   "execution_count": 1,
   "metadata": {},
   "outputs": [],
   "source": [
    "import pyzx as zx\n",
    "import random\n",
    "from qiskit import QuantumCircuit\n",
    "from qiskit.circuit import QuantumCircuit, ParameterVector\n",
    "import csv\n",
    "import time"
   ]
  },
  {
   "cell_type": "code",
   "execution_count": 2,
   "metadata": {},
   "outputs": [
    {
     "name": "stdout",
     "output_type": "stream",
     "text": [
      "Circuit  on 4 qubits with 100 gates.\n",
      "        29 is the T-count\n",
      "        71 Cliffords among which\n",
      "        28 2-qubit gates (28 CNOT, 0 other) and\n",
      "        25 Hadamard gates.\n"
     ]
    }
   ],
   "source": [
    "def generate_H_S_CNOT_T_circuit(qubits, gates, p_t=0, seed=1000):\n",
    "    random.seed(seed)  \n",
    "    p_s = 0.333 * (1.0 - p_t)  \n",
    "    p_had = 0.333 * (1.0 - p_t)  \n",
    "    p_cnot = 0.333 * (1.0 - p_t)  \n",
    "\n",
    "    c = zx.Circuit(qubits) \n",
    "    for _ in range(gates):\n",
    "        r = random.random() \n",
    "        if r < p_had:\n",
    "            c.add_gate(\"HAD\", random.randrange(qubits))\n",
    "        elif r < p_had + p_s:\n",
    "            c.add_gate(\"S\", random.randrange(qubits))\n",
    "        elif r < p_had + p_s + p_t:\n",
    "            c.add_gate(\"T\", random.randrange(qubits))\n",
    "        else:\n",
    "            tgt = random.randrange(qubits)\n",
    "            while True:\n",
    "                ctrl = random.randrange(qubits)\n",
    "                if ctrl != tgt:\n",
    "                    break\n",
    "            c.add_gate(\"CNOT\", tgt, ctrl)\n",
    "    return c\n",
    "\n",
    "c = generate_H_S_CNOT_T_circuit(4,gates=100,p_t=0.3, seed = 1000)\n",
    "print(c.stats())"
   ]
  },
  {
   "cell_type": "code",
   "execution_count": 3,
   "metadata": {},
   "outputs": [
    {
     "name": "stdout",
     "output_type": "stream",
     "text": [
      "Circuit  on 4 qubits with 10000 gates.\n",
      "        2973 is the T-count\n",
      "        7027 Cliffords among which\n",
      "        2312 2-qubit gates (2312 CNOT, 0 other) and\n",
      "        2333 Hadamard gates.\n",
      "Circuit  on 4 qubits with 4702 gates.\n",
      "        1177 is the T-count\n",
      "        3525 Cliffords among which\n",
      "        1706 2-qubit gates (1490 CNOT, 216 other) and\n",
      "        1147 Hadamard gates.\n",
      "This function is deprecated. Call extract_circuit() instead.\n",
      "This function is deprecated. Call extract_circuit() instead.\n",
      "Circuit  on 4 qubits with 4529 gates.\n",
      "        1155 is the T-count\n",
      "        3374 Cliffords among which\n",
      "        1962 2-qubit gates (281 CNOT, 1681 other) and\n",
      "        1385 Hadamard gates.\n",
      "Circuit  on 4 qubits with 4532 gates.\n",
      "        1157 is the T-count\n",
      "        3375 Cliffords among which\n",
      "        1960 2-qubit gates (272 CNOT, 1688 other) and\n",
      "        1386 Hadamard gates.\n"
     ]
    }
   ],
   "source": [
    "c = generate_H_S_CNOT_T_circuit(4,gates=10000,p_t=0.3, seed = 1000)\n",
    "print(c.stats())\n",
    "c = zx.optimize.basic_optimization(c)\n",
    "print(c.stats())\n",
    "\n",
    "g = c.to_graph()\n",
    "g2 = c.to_graph()\n",
    "\n",
    "\n",
    "zx.simplify.clifford_simp(g)\n",
    "zx.simplify.jisaku_random_clifford_simp(g2)\n",
    "\n",
    "c = zx.extract.streaming_extract(g)\n",
    "c2 = zx.extract.streaming_extract(g2)\n",
    "\n",
    "print(c.stats())\n",
    "print(c2.stats())\n"
   ]
  },
  {
   "cell_type": "code",
   "execution_count": 77,
   "metadata": {},
   "outputs": [
    {
     "name": "stdout",
     "output_type": "stream",
     "text": [
      "4\n",
      "{1, 2, 3, 5}\n"
     ]
    }
   ],
   "source": [
    "s = set([1,2,3,4,5])\n",
    "sampled_item = random.sample(list(s), 1)[0]\n",
    "print(sampled_item)\n",
    "s.remove(sampled_item)\n",
    "print(s)"
   ]
  },
  {
   "cell_type": "code",
   "execution_count": 83,
   "metadata": {},
   "outputs": [
    {
     "data": {
      "text/plain": [
       "{2, 3, 4, 5}"
      ]
     },
     "execution_count": 83,
     "metadata": {},
     "output_type": "execute_result"
    }
   ],
   "source": [
    "s = set([1,2,3,4,5])\n",
    "s.pop()\n",
    "s"
   ]
  }
 ],
 "metadata": {
  "kernelspec": {
   "display_name": "venv",
   "language": "python",
   "name": "python3"
  },
  "language_info": {
   "codemirror_mode": {
    "name": "ipython",
    "version": 3
   },
   "file_extension": ".py",
   "mimetype": "text/x-python",
   "name": "python",
   "nbconvert_exporter": "python",
   "pygments_lexer": "ipython3",
   "version": "3.10.12"
  }
 },
 "nbformat": 4,
 "nbformat_minor": 2
}
